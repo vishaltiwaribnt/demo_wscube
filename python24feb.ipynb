{
 "cells": [
  {
   "cell_type": "code",
   "execution_count": 6,
   "id": "66c2e7ea-88f8-4fc8-8d53-eb78f9d2fc68",
   "metadata": {},
   "outputs": [
    {
     "name": "stdin",
     "output_type": "stream",
     "text": [
      "enter the first number :... 12\n",
      "enter the Sec number :... 34\n",
      "enter the Third number :... 15\n"
     ]
    },
    {
     "name": "stdout",
     "output_type": "stream",
     "text": [
      " 34,'B is max'\n"
     ]
    }
   ],
   "source": [
    "def max_number(a,b,c):\n",
    "    if a > b:\n",
    "        return (f\"{a},'A is max'\")\n",
    "        \n",
    "    elif b > c:\n",
    "        return (f\" {b},'B is max'\")\n",
    "    \n",
    "    else:\n",
    "        return (f\" {c},'C is max'\")\n",
    "\n",
    "a = int(input(\"enter the first number :...\"))\n",
    "b = int(input(\"enter the Sec number :...\"))\n",
    "c = int(input(\"enter the Third number :...\"))\n",
    "\n",
    "\n",
    "max = max_number(a,b,c)\n",
    "print(max)\n",
    "\n",
    "          "
   ]
  },
  {
   "cell_type": "code",
   "execution_count": 15,
   "id": "9fb2dcfe-66d1-4404-aef9-f1301b6a614e",
   "metadata": {},
   "outputs": [
    {
     "name": "stdout",
     "output_type": "stream",
     "text": [
      "123\n",
      "<class 'str'>\n"
     ]
    }
   ],
   "source": [
    "def cov(num):\n",
    "    dig = '01234'\n",
    "    result = ''\n",
    "    while num !=0:\n",
    "        current_num = num % 10\n",
    "        result = dig[current_num] + result\n",
    "        num = num // 10\n",
    "    return result \n",
    "\n",
    "a = cov(123)\n",
    "print(a)\n",
    "print(type(a))\n",
    "        "
   ]
  },
  {
   "cell_type": "code",
   "execution_count": 5,
   "id": "028175c8-9307-4096-acb6-f8150dddea12",
   "metadata": {},
   "outputs": [
    {
     "data": {
      "text/plain": [
       "2"
      ]
     },
     "execution_count": 5,
     "metadata": {},
     "output_type": "execute_result"
    }
   ],
   "source": [
    "5 % 2 \n",
    "5 // 2"
   ]
  },
  {
   "cell_type": "code",
   "execution_count": 6,
   "id": "89e2d8ca-6883-483a-b9ce-2e5d729c1f6f",
   "metadata": {},
   "outputs": [
    {
     "data": {
      "text/plain": [
       "0"
      ]
     },
     "execution_count": 6,
     "metadata": {},
     "output_type": "execute_result"
    }
   ],
   "source": [
    "1// 10"
   ]
  },
  {
   "cell_type": "code",
   "execution_count": 7,
   "id": "20e72bba-f16b-4043-b73e-9b090f3a9bc0",
   "metadata": {},
   "outputs": [
    {
     "data": {
      "text/plain": [
       "1"
      ]
     },
     "execution_count": 7,
     "metadata": {},
     "output_type": "execute_result"
    }
   ],
   "source": [
    "12 // 10"
   ]
  },
  {
   "cell_type": "code",
   "execution_count": 10,
   "id": "b139e0eb-cae9-4c6b-9139-f63ef7f31d20",
   "metadata": {},
   "outputs": [
    {
     "name": "stdout",
     "output_type": "stream",
     "text": [
      "{1: 1, 2: 1, 3: 1, 4: 2, 5: 5, 6: 1}\n"
     ]
    }
   ],
   "source": [
    "def most_freq_ele(element):\n",
    "    count_dict = {}\n",
    "    for i in element:\n",
    "        if i in count_dict:\n",
    "            count_dict[i] = count_dict[i] + 1\n",
    "        else:\n",
    "            count_dict[i] = 1\n",
    "\n",
    "    return count_dict\n",
    "\n",
    "num = [1,2,3,4,4,5,5,5,5,5,6]\n",
    "a = most_freq_ele(num)\n",
    "print(a)"
   ]
  },
  {
   "cell_type": "code",
   "execution_count": 12,
   "id": "62a8d5ed-4b4c-47e9-b4ef-31afc60f70d7",
   "metadata": {},
   "outputs": [
    {
     "name": "stdout",
     "output_type": "stream",
     "text": [
      "5\n"
     ]
    }
   ],
   "source": [
    "def most_freq_ele(element):\n",
    "    count_dict = {}\n",
    "    for i in element:\n",
    "        if i in count_dict:\n",
    "            count_dict[i] = count_dict[i] + 1\n",
    "        else:\n",
    "            count_dict[i] = 1\n",
    "\n",
    "    mx_freq = max(count_dict,key = count_dict.get)\n",
    "\n",
    "    return mx_freq\n",
    "\n",
    "num = [1,2,3,4,4,5,5,5,5,5,6]\n",
    "a = most_freq_ele(num)\n",
    "print(a)"
   ]
  },
  {
   "cell_type": "code",
   "execution_count": 3,
   "id": "8a8f2cb4-2226-433f-9342-0f5d5f343f95",
   "metadata": {},
   "outputs": [
    {
     "name": "stdout",
     "output_type": "stream",
     "text": [
      "{1, 2, 3, 4, 5}\n"
     ]
    }
   ],
   "source": [
    "def rev_dup(lst):\n",
    "    return set(lst)\n",
    "\n",
    "\n",
    "a = [1,2,3,4,5,5,5,5,5]\n",
    "ab = rev_dup(a)\n",
    "print(ab)"
   ]
  },
  {
   "cell_type": "code",
   "execution_count": 4,
   "id": "b7eb05b3-61c0-4d88-b88b-5d5a50f56f65",
   "metadata": {},
   "outputs": [
    {
     "name": "stdout",
     "output_type": "stream",
     "text": [
      "{1, 2, 3, 4, 5}\n"
     ]
    }
   ],
   "source": [
    "def rev_dup(lst):\n",
    "    return set(lst)\n",
    "\n",
    "\n",
    "a = [1,2,3,4,5,5,5,5,5]\n",
    "ab = rev_dup(a)\n",
    "print(ab)"
   ]
  },
  {
   "cell_type": "code",
   "execution_count": 7,
   "id": "f15a2d61-fd5b-4539-8c75-256288e3f251",
   "metadata": {},
   "outputs": [
    {
     "name": "stdout",
     "output_type": "stream",
     "text": [
      "[1, 2, 3, 4]\n"
     ]
    }
   ],
   "source": [
    "def rem_dup(lst):\n",
    "    seen = set()\n",
    "    result = []\n",
    "    for i in lst:\n",
    "        if i not in seen:\n",
    "            seen.add(i)\n",
    "            result.append(i)\n",
    "\n",
    "    return result\n",
    "\n",
    "data = [1,2,3,4,4,4,4,4]\n",
    "ab = rem_dup(data)\n",
    "print(ab)    "
   ]
  },
  {
   "cell_type": "code",
   "execution_count": null,
   "id": "a8dfa6be-f98d-40d2-9b61-018e50605de4",
   "metadata": {},
   "outputs": [],
   "source": [
    "\n",
    "def rem_dup(lst):\n",
    "    seen = set()  # To track unique elements\n",
    "    result = []   # To store the result without duplicates\n",
    "    for i in lst:  # Iterate over the input list `lst`\n",
    "        if i not in seen:\n",
    "            seen.add(i)  # Add the element to the set\n",
    "            result.append(i)  # Append the element to the result list\n",
    "    return result\n",
    "\n",
    "# Example usage\n",
    "data = [1, 2, 3, 4, 4, 4, 4, 4]\n",
    "ab = rem_dup(data)\n",
    "print(ab)"
   ]
  },
  {
   "cell_type": "code",
   "execution_count": 9,
   "id": "4ef9435c-ac97-41ce-a2c1-fbeedb78fc5a",
   "metadata": {},
   "outputs": [
    {
     "name": "stdout",
     "output_type": "stream",
     "text": [
      "[1, 2, 3]\n"
     ]
    }
   ],
   "source": [
    "lst = [1,2,3,3,3]\n",
    "a = []\n",
    "for i in lst:\n",
    "    if i not in a :\n",
    "        a.append(i)\n",
    "\n",
    "print(a)"
   ]
  },
  {
   "cell_type": "code",
   "execution_count": 14,
   "id": "564e51a0-81ee-4dd5-ac6c-2d9f1f6531b8",
   "metadata": {},
   "outputs": [
    {
     "name": "stdout",
     "output_type": "stream",
     "text": [
      "Flattened list: [1, 2, 3, 4, 5, 6, 7]\n"
     ]
    }
   ],
   "source": [
    "def flt_lst(nested_list):\n",
    "    result = []\n",
    "    for item in nested_list:\n",
    "        if isinstance(item, list):\n",
    "            result.extend(flt_lst(item))\n",
    "        else:\n",
    "            result.append(item)\n",
    "    return result\n",
    "\n",
    "# Example usage\n",
    "data = [[1, [2, [3, 4], 5], 6],7]\n",
    "result = flt_lst(data)\n",
    "print(\"Flattened list:\", result)"
   ]
  },
  {
   "cell_type": "code",
   "execution_count": null,
   "id": "d3ce8375-d200-4ac6-a04c-3ba718b49e85",
   "metadata": {},
   "outputs": [],
   "source": []
  },
  {
   "cell_type": "code",
   "execution_count": 15,
   "id": "cbc0f104-4730-4ff3-abdd-0e166fcdfcfd",
   "metadata": {},
   "outputs": [
    {
     "name": "stdout",
     "output_type": "stream",
     "text": [
      "Flattened list: [1, 2, 3, 4, 5, 6, 7]\n"
     ]
    }
   ],
   "source": [
    "def flt_lst(nested_list):\n",
    "    result = []\n",
    "    for item in nested_list:\n",
    "        if isinstance(item, list):\n",
    "            result.extend(flt_lst(item))\n",
    "        else:\n",
    "            result.append(item)\n",
    "    return result\n",
    "\n",
    "# Example usage\n",
    "data = [[1, [2, [3, 4], 5], 6],7]\n",
    "result = flt_lst(data)\n",
    "print(\"Flattened list:\", result)"
   ]
  },
  {
   "cell_type": "code",
   "execution_count": 20,
   "id": "ec236f9b-5be5-4ab2-b678-d5ce03b8b0f1",
   "metadata": {},
   "outputs": [
    {
     "name": "stdout",
     "output_type": "stream",
     "text": [
      "4\n"
     ]
    }
   ],
   "source": [
    "def missing_n(lst):\n",
    "    n = len(lst) + 1\n",
    "    exp_sum = n *(n+1)//2\n",
    "    act_sum = sum(lst)\n",
    "    return exp_sum - act_sum\n",
    "a = [1,2,3,5]\n",
    "ab = missing_n(a)\n",
    "print(ab)"
   ]
  },
  {
   "cell_type": "code",
   "execution_count": null,
   "id": "58a755e6-843d-46c7-bbe9-c724f8cfa08f",
   "metadata": {},
   "outputs": [],
   "source": []
  },
  {
   "cell_type": "code",
   "execution_count": 21,
   "id": "5555d807-38be-4a0f-955f-a26602dbf7c1",
   "metadata": {},
   "outputs": [
    {
     "name": "stdout",
     "output_type": "stream",
     "text": [
      "Merged dictionary: {'a': 1, 'b': 2, 'c': 3, 'd': 4}\n"
     ]
    }
   ],
   "source": [
    "def merge_dicts(dict1, dict2):\n",
    "    return {**dict1, **dict2}\n",
    "\n",
    "# Example usage\n",
    "dict1 = {'a': 1, 'b': 2}\n",
    "dict2 = {'c': 3, 'd': 4}\n",
    "result = merge_dicts(dict1, dict2)\n",
    "print(\"Merged dictionary:\", result)"
   ]
  },
  {
   "cell_type": "code",
   "execution_count": 24,
   "id": "748ba05d-6a51-4a7c-9147-e9bdb6185c28",
   "metadata": {},
   "outputs": [
    {
     "name": "stdout",
     "output_type": "stream",
     "text": [
      "{'a': 1, 'b': 2, 'c': 3, 'd': 4}\n"
     ]
    }
   ],
   "source": [
    "dict1 = {'a': 1, 'b': 2}\n",
    "dict2 = {'c': 3, 'd': 4}\n",
    "\n",
    "# Merge dict1 and dict2\n",
    "merged_dict = {**dict1,**dict2} # Use dictionary unpacking (**) to merge dictionaries.\n",
    "\n",
    "\n",
    "\n",
    "print(merged_dict)\n"
   ]
  },
  {
   "cell_type": "code",
   "execution_count": 29,
   "id": "d49d12a8-3d33-428d-aa65-a8592d6fc5d0",
   "metadata": {},
   "outputs": [
    {
     "data": {
      "text/plain": [
       "45"
      ]
     },
     "execution_count": 29,
     "metadata": {},
     "output_type": "execute_result"
    }
   ],
   "source": [
    "def sec_largest(lst):\n",
    "    unique_n = list(set(lst))\n",
    "    unique_n.sort(reverse = True)\n",
    "    return unique_n[1]\n",
    "\n",
    "n = [1,2,3,4,45,56,56,45]\n",
    "sec_largest(n)"
   ]
  },
  {
   "cell_type": "code",
   "execution_count": null,
   "id": "ae0c33f2-c9c0-4e27-808e-a780f607c9d1",
   "metadata": {},
   "outputs": [],
   "source": []
  }
 ],
 "metadata": {
  "kernelspec": {
   "display_name": "Python 3 (ipykernel)",
   "language": "python",
   "name": "python3"
  },
  "language_info": {
   "codemirror_mode": {
    "name": "ipython",
    "version": 3
   },
   "file_extension": ".py",
   "mimetype": "text/x-python",
   "name": "python",
   "nbconvert_exporter": "python",
   "pygments_lexer": "ipython3",
   "version": "3.11.9"
  }
 },
 "nbformat": 4,
 "nbformat_minor": 5
}
